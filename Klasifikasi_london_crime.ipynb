{
  "cells": [
    {
      "cell_type": "markdown",
      "metadata": {
        "id": "view-in-github",
        "colab_type": "text"
      },
      "source": [
        "<a href=\"https://colab.research.google.com/github/fauziass22/Klasifikasi_LondonCrime/blob/main/Klasifikasi_london_crime.ipynb\" target=\"_parent\"><img src=\"https://colab.research.google.com/assets/colab-badge.svg\" alt=\"Open In Colab\"/></a>"
      ]
    },
    {
      "cell_type": "code",
      "execution_count": 1,
      "metadata": {
        "colab": {
          "base_uri": "https://localhost:8080/"
        },
        "id": "SQu9QZnF_OT8",
        "outputId": "39530302-0e6e-4da1-b9bf-d575e8d20b3d"
      },
      "outputs": [
        {
          "output_type": "stream",
          "name": "stdout",
          "text": [
            "Requirement already satisfied: kaggle in /usr/local/lib/python3.10/dist-packages (1.5.16)\n",
            "Requirement already satisfied: six>=1.10 in /usr/local/lib/python3.10/dist-packages (from kaggle) (1.16.0)\n",
            "Requirement already satisfied: certifi in /usr/local/lib/python3.10/dist-packages (from kaggle) (2023.11.17)\n",
            "Requirement already satisfied: python-dateutil in /usr/local/lib/python3.10/dist-packages (from kaggle) (2.8.2)\n",
            "Requirement already satisfied: requests in /usr/local/lib/python3.10/dist-packages (from kaggle) (2.31.0)\n",
            "Requirement already satisfied: tqdm in /usr/local/lib/python3.10/dist-packages (from kaggle) (4.66.1)\n",
            "Requirement already satisfied: python-slugify in /usr/local/lib/python3.10/dist-packages (from kaggle) (8.0.1)\n",
            "Requirement already satisfied: urllib3 in /usr/local/lib/python3.10/dist-packages (from kaggle) (2.0.7)\n",
            "Requirement already satisfied: bleach in /usr/local/lib/python3.10/dist-packages (from kaggle) (6.1.0)\n",
            "Requirement already satisfied: webencodings in /usr/local/lib/python3.10/dist-packages (from bleach->kaggle) (0.5.1)\n",
            "Requirement already satisfied: text-unidecode>=1.3 in /usr/local/lib/python3.10/dist-packages (from python-slugify->kaggle) (1.3)\n",
            "Requirement already satisfied: charset-normalizer<4,>=2 in /usr/local/lib/python3.10/dist-packages (from requests->kaggle) (3.3.2)\n",
            "Requirement already satisfied: idna<4,>=2.5 in /usr/local/lib/python3.10/dist-packages (from requests->kaggle) (3.6)\n"
          ]
        }
      ],
      "source": [
        "!pip install kaggle"
      ]
    },
    {
      "cell_type": "code",
      "execution_count": null,
      "metadata": {
        "id": "TTo9XGnU_VF-"
      },
      "outputs": [],
      "source": [
        "import os\n",
        "os.environ['KAGGLE_CONFIG_DIR'] = '/content'\n"
      ]
    },
    {
      "cell_type": "code",
      "execution_count": null,
      "metadata": {
        "colab": {
          "base_uri": "https://localhost:8080/"
        },
        "id": "zqTXqBTV_Zzg",
        "outputId": "b3306135-8814-44f1-959d-0f014953d398"
      },
      "outputs": [
        {
          "output_type": "stream",
          "name": "stdout",
          "text": [
            "Traceback (most recent call last):\n",
            "  File \"/usr/local/bin/kaggle\", line 5, in <module>\n",
            "    from kaggle.cli import main\n",
            "  File \"/usr/local/lib/python3.10/dist-packages/kaggle/__init__.py\", line 23, in <module>\n",
            "    api.authenticate()\n",
            "  File \"/usr/local/lib/python3.10/dist-packages/kaggle/api/kaggle_api_extended.py\", line 181, in authenticate\n",
            "    raise IOError('Could not find {}. Make sure it\\'s located in'\n",
            "OSError: Could not find kaggle.json. Make sure it's located in /content. Or use the environment method.\n"
          ]
        }
      ],
      "source": [
        "!kaggle datasets download -d london-data-store/london-crime --unzip\n"
      ]
    },
    {
      "cell_type": "code",
      "execution_count": null,
      "metadata": {
        "id": "7lcr7cRsAbHY"
      },
      "outputs": [],
      "source": [
        "import pandas as pd\n",
        "import numpy as np\n",
        "import seaborn as sns\n",
        "import matplotlib.pyplot as plt"
      ]
    },
    {
      "cell_type": "code",
      "execution_count": null,
      "metadata": {
        "id": "UCk2CI5xHQmV"
      },
      "outputs": [],
      "source": [
        "import pandas as pd\n",
        "from sklearn.preprocessing import LabelEncoder, OneHotEncoder\n",
        "from sklearn.neighbors import NearestNeighbors"
      ]
    },
    {
      "cell_type": "code",
      "execution_count": null,
      "metadata": {
        "id": "H2gDMW1lAdDM"
      },
      "outputs": [],
      "source": [
        "df=pd.read_csv(\"../london_crime_by_lsoa.csv\")"
      ]
    },
    {
      "cell_type": "code",
      "source": [
        "import torch\n",
        "import numpy as np\n",
        "import sklearn\n",
        "import spacy\n",
        "import tensorflow as tf\n",
        "from spacy import load as spacy_load\n",
        "from transformers import BertTokenizer, BertModel"
      ],
      "metadata": {
        "id": "5hjOU9HEikke"
      },
      "execution_count": 2,
      "outputs": []
    },
    {
      "cell_type": "code",
      "source": [],
      "metadata": {
        "id": "H9kgaMmDimLl"
      },
      "execution_count": null,
      "outputs": []
    },
    {
      "cell_type": "code",
      "execution_count": null,
      "metadata": {
        "colab": {
          "base_uri": "https://localhost:8080/",
          "height": 206
        },
        "id": "nCoruIz7Bixa",
        "outputId": "65b69020-893f-4e45-95fc-a782d23fa50e"
      },
      "outputs": [
        {
          "output_type": "execute_result",
          "data": {
            "text/plain": [
              "   lsoa_code     borough               major_category  \\\n",
              "0  E01001116     Croydon                     Burglary   \n",
              "1  E01001646   Greenwich  Violence Against the Person   \n",
              "2  E01000677     Bromley  Violence Against the Person   \n",
              "3  E01003774   Redbridge                     Burglary   \n",
              "4  E01004563  Wandsworth                      Robbery   \n",
              "\n",
              "                minor_category  value    year  month  \n",
              "0  Burglary in Other Buildings    0.0  2016.0   11.0  \n",
              "1               Other violence    0.0  2016.0   11.0  \n",
              "2               Other violence    0.0  2015.0    5.0  \n",
              "3  Burglary in Other Buildings    0.0  2016.0    3.0  \n",
              "4            Personal Property    0.0  2008.0    6.0  "
            ],
            "text/html": [
              "\n",
              "\n",
              "  <div id=\"df-d8435548-d806-4146-a59a-1dc811a75d23\">\n",
              "    <div class=\"colab-df-container\">\n",
              "      <div>\n",
              "<style scoped>\n",
              "    .dataframe tbody tr th:only-of-type {\n",
              "        vertical-align: middle;\n",
              "    }\n",
              "\n",
              "    .dataframe tbody tr th {\n",
              "        vertical-align: top;\n",
              "    }\n",
              "\n",
              "    .dataframe thead th {\n",
              "        text-align: right;\n",
              "    }\n",
              "</style>\n",
              "<table border=\"1\" class=\"dataframe\">\n",
              "  <thead>\n",
              "    <tr style=\"text-align: right;\">\n",
              "      <th></th>\n",
              "      <th>lsoa_code</th>\n",
              "      <th>borough</th>\n",
              "      <th>major_category</th>\n",
              "      <th>minor_category</th>\n",
              "      <th>value</th>\n",
              "      <th>year</th>\n",
              "      <th>month</th>\n",
              "    </tr>\n",
              "  </thead>\n",
              "  <tbody>\n",
              "    <tr>\n",
              "      <th>0</th>\n",
              "      <td>E01001116</td>\n",
              "      <td>Croydon</td>\n",
              "      <td>Burglary</td>\n",
              "      <td>Burglary in Other Buildings</td>\n",
              "      <td>0.0</td>\n",
              "      <td>2016.0</td>\n",
              "      <td>11.0</td>\n",
              "    </tr>\n",
              "    <tr>\n",
              "      <th>1</th>\n",
              "      <td>E01001646</td>\n",
              "      <td>Greenwich</td>\n",
              "      <td>Violence Against the Person</td>\n",
              "      <td>Other violence</td>\n",
              "      <td>0.0</td>\n",
              "      <td>2016.0</td>\n",
              "      <td>11.0</td>\n",
              "    </tr>\n",
              "    <tr>\n",
              "      <th>2</th>\n",
              "      <td>E01000677</td>\n",
              "      <td>Bromley</td>\n",
              "      <td>Violence Against the Person</td>\n",
              "      <td>Other violence</td>\n",
              "      <td>0.0</td>\n",
              "      <td>2015.0</td>\n",
              "      <td>5.0</td>\n",
              "    </tr>\n",
              "    <tr>\n",
              "      <th>3</th>\n",
              "      <td>E01003774</td>\n",
              "      <td>Redbridge</td>\n",
              "      <td>Burglary</td>\n",
              "      <td>Burglary in Other Buildings</td>\n",
              "      <td>0.0</td>\n",
              "      <td>2016.0</td>\n",
              "      <td>3.0</td>\n",
              "    </tr>\n",
              "    <tr>\n",
              "      <th>4</th>\n",
              "      <td>E01004563</td>\n",
              "      <td>Wandsworth</td>\n",
              "      <td>Robbery</td>\n",
              "      <td>Personal Property</td>\n",
              "      <td>0.0</td>\n",
              "      <td>2008.0</td>\n",
              "      <td>6.0</td>\n",
              "    </tr>\n",
              "  </tbody>\n",
              "</table>\n",
              "</div>\n",
              "      <button class=\"colab-df-convert\" onclick=\"convertToInteractive('df-d8435548-d806-4146-a59a-1dc811a75d23')\"\n",
              "              title=\"Convert this dataframe to an interactive table.\"\n",
              "              style=\"display:none;\">\n",
              "\n",
              "  <svg xmlns=\"http://www.w3.org/2000/svg\" height=\"24px\"viewBox=\"0 0 24 24\"\n",
              "       width=\"24px\">\n",
              "    <path d=\"M0 0h24v24H0V0z\" fill=\"none\"/>\n",
              "    <path d=\"M18.56 5.44l.94 2.06.94-2.06 2.06-.94-2.06-.94-.94-2.06-.94 2.06-2.06.94zm-11 1L8.5 8.5l.94-2.06 2.06-.94-2.06-.94L8.5 2.5l-.94 2.06-2.06.94zm10 10l.94 2.06.94-2.06 2.06-.94-2.06-.94-.94-2.06-.94 2.06-2.06.94z\"/><path d=\"M17.41 7.96l-1.37-1.37c-.4-.4-.92-.59-1.43-.59-.52 0-1.04.2-1.43.59L10.3 9.45l-7.72 7.72c-.78.78-.78 2.05 0 2.83L4 21.41c.39.39.9.59 1.41.59.51 0 1.02-.2 1.41-.59l7.78-7.78 2.81-2.81c.8-.78.8-2.07 0-2.86zM5.41 20L4 18.59l7.72-7.72 1.47 1.35L5.41 20z\"/>\n",
              "  </svg>\n",
              "      </button>\n",
              "\n",
              "\n",
              "\n",
              "    <div id=\"df-92b61a56-13c7-41f7-8c7f-9e982544dae5\">\n",
              "      <button class=\"colab-df-quickchart\" onclick=\"quickchart('df-92b61a56-13c7-41f7-8c7f-9e982544dae5')\"\n",
              "              title=\"Suggest charts.\"\n",
              "              style=\"display:none;\">\n",
              "\n",
              "<svg xmlns=\"http://www.w3.org/2000/svg\" height=\"24px\"viewBox=\"0 0 24 24\"\n",
              "     width=\"24px\">\n",
              "    <g>\n",
              "        <path d=\"M19 3H5c-1.1 0-2 .9-2 2v14c0 1.1.9 2 2 2h14c1.1 0 2-.9 2-2V5c0-1.1-.9-2-2-2zM9 17H7v-7h2v7zm4 0h-2V7h2v10zm4 0h-2v-4h2v4z\"/>\n",
              "    </g>\n",
              "</svg>\n",
              "      </button>\n",
              "    </div>\n",
              "\n",
              "<style>\n",
              "  .colab-df-quickchart {\n",
              "    background-color: #E8F0FE;\n",
              "    border: none;\n",
              "    border-radius: 50%;\n",
              "    cursor: pointer;\n",
              "    display: none;\n",
              "    fill: #1967D2;\n",
              "    height: 32px;\n",
              "    padding: 0 0 0 0;\n",
              "    width: 32px;\n",
              "  }\n",
              "\n",
              "  .colab-df-quickchart:hover {\n",
              "    background-color: #E2EBFA;\n",
              "    box-shadow: 0px 1px 2px rgba(60, 64, 67, 0.3), 0px 1px 3px 1px rgba(60, 64, 67, 0.15);\n",
              "    fill: #174EA6;\n",
              "  }\n",
              "\n",
              "  [theme=dark] .colab-df-quickchart {\n",
              "    background-color: #3B4455;\n",
              "    fill: #D2E3FC;\n",
              "  }\n",
              "\n",
              "  [theme=dark] .colab-df-quickchart:hover {\n",
              "    background-color: #434B5C;\n",
              "    box-shadow: 0px 1px 3px 1px rgba(0, 0, 0, 0.15);\n",
              "    filter: drop-shadow(0px 1px 2px rgba(0, 0, 0, 0.3));\n",
              "    fill: #FFFFFF;\n",
              "  }\n",
              "</style>\n",
              "\n",
              "    <script>\n",
              "      async function quickchart(key) {\n",
              "        const containerElement = document.querySelector('#' + key);\n",
              "        const charts = await google.colab.kernel.invokeFunction(\n",
              "            'suggestCharts', [key], {});\n",
              "      }\n",
              "    </script>\n",
              "\n",
              "      <script>\n",
              "\n",
              "function displayQuickchartButton(domScope) {\n",
              "  let quickchartButtonEl =\n",
              "    domScope.querySelector('#df-92b61a56-13c7-41f7-8c7f-9e982544dae5 button.colab-df-quickchart');\n",
              "  quickchartButtonEl.style.display =\n",
              "    google.colab.kernel.accessAllowed ? 'block' : 'none';\n",
              "}\n",
              "\n",
              "        displayQuickchartButton(document);\n",
              "      </script>\n",
              "      <style>\n",
              "    .colab-df-container {\n",
              "      display:flex;\n",
              "      flex-wrap:wrap;\n",
              "      gap: 12px;\n",
              "    }\n",
              "\n",
              "    .colab-df-convert {\n",
              "      background-color: #E8F0FE;\n",
              "      border: none;\n",
              "      border-radius: 50%;\n",
              "      cursor: pointer;\n",
              "      display: none;\n",
              "      fill: #1967D2;\n",
              "      height: 32px;\n",
              "      padding: 0 0 0 0;\n",
              "      width: 32px;\n",
              "    }\n",
              "\n",
              "    .colab-df-convert:hover {\n",
              "      background-color: #E2EBFA;\n",
              "      box-shadow: 0px 1px 2px rgba(60, 64, 67, 0.3), 0px 1px 3px 1px rgba(60, 64, 67, 0.15);\n",
              "      fill: #174EA6;\n",
              "    }\n",
              "\n",
              "    [theme=dark] .colab-df-convert {\n",
              "      background-color: #3B4455;\n",
              "      fill: #D2E3FC;\n",
              "    }\n",
              "\n",
              "    [theme=dark] .colab-df-convert:hover {\n",
              "      background-color: #434B5C;\n",
              "      box-shadow: 0px 1px 3px 1px rgba(0, 0, 0, 0.15);\n",
              "      filter: drop-shadow(0px 1px 2px rgba(0, 0, 0, 0.3));\n",
              "      fill: #FFFFFF;\n",
              "    }\n",
              "  </style>\n",
              "\n",
              "      <script>\n",
              "        const buttonEl =\n",
              "          document.querySelector('#df-d8435548-d806-4146-a59a-1dc811a75d23 button.colab-df-convert');\n",
              "        buttonEl.style.display =\n",
              "          google.colab.kernel.accessAllowed ? 'block' : 'none';\n",
              "\n",
              "        async function convertToInteractive(key) {\n",
              "          const element = document.querySelector('#df-d8435548-d806-4146-a59a-1dc811a75d23');\n",
              "          const dataTable =\n",
              "            await google.colab.kernel.invokeFunction('convertToInteractive',\n",
              "                                                     [key], {});\n",
              "          if (!dataTable) return;\n",
              "\n",
              "          const docLinkHtml = 'Like what you see? Visit the ' +\n",
              "            '<a target=\"_blank\" href=https://colab.research.google.com/notebooks/data_table.ipynb>data table notebook</a>'\n",
              "            + ' to learn more about interactive tables.';\n",
              "          element.innerHTML = '';\n",
              "          dataTable['output_type'] = 'display_data';\n",
              "          await google.colab.output.renderOutput(dataTable, element);\n",
              "          const docLink = document.createElement('div');\n",
              "          docLink.innerHTML = docLinkHtml;\n",
              "          element.appendChild(docLink);\n",
              "        }\n",
              "      </script>\n",
              "    </div>\n",
              "  </div>\n"
            ]
          },
          "metadata": {},
          "execution_count": 8
        }
      ],
      "source": [
        "df.head()"
      ]
    },
    {
      "cell_type": "code",
      "execution_count": null,
      "metadata": {
        "id": "6MR-BgojBuNd"
      },
      "outputs": [],
      "source": [
        "import numpy as np\n",
        "from sklearn.neighbors import NearestNeighbors"
      ]
    },
    {
      "cell_type": "code",
      "execution_count": null,
      "metadata": {
        "id": "_m0EGJyrBwes"
      },
      "outputs": [],
      "source": [
        "import pandas as pd\n",
        "import numpy as np\n",
        "\n",
        "# Memuat data dari DataFrame ke dalam array numpy\n",
        "data = df.values\n",
        "\n",
        "\n",
        "\n"
      ]
    },
    {
      "cell_type": "code",
      "source": [
        "import pandas as pd\n",
        "\n",
        "# Menghapus baris dengan nilai null\n",
        "cleaned_df = df.dropna()\n",
        "\n",
        "# Menyimpan data yang telah dibersihkan kembali ke DataFrame\n",
        "cleaned_df = cleaned_df.reset_index(drop=True)"
      ],
      "metadata": {
        "id": "O6WRpNTSRunR"
      },
      "execution_count": null,
      "outputs": []
    },
    {
      "cell_type": "code",
      "source": [
        "cleaned_df = df.dropna(subset=['value'])"
      ],
      "metadata": {
        "id": "Sa84rDgaR0oV"
      },
      "execution_count": null,
      "outputs": []
    },
    {
      "cell_type": "code",
      "execution_count": null,
      "metadata": {
        "id": "skhaORmGCAK1"
      },
      "outputs": [],
      "source": [
        "k = 5\n",
        "knn = NearestNeighbors(n_neighbors=k, metric='euclidean')\n"
      ]
    },
    {
      "cell_type": "code",
      "execution_count": null,
      "metadata": {
        "colab": {
          "base_uri": "https://localhost:8080/"
        },
        "id": "WxPsM1YOHALb",
        "outputId": "ef15c633-c49e-410b-a262-6f2587109c01"
      },
      "outputs": [
        {
          "output_type": "stream",
          "name": "stderr",
          "text": [
            "<ipython-input-14-41d8fc82acb6>:12: SettingWithCopyWarning: \n",
            "A value is trying to be set on a copy of a slice from a DataFrame.\n",
            "Try using .loc[row_indexer,col_indexer] = value instead\n",
            "\n",
            "See the caveats in the documentation: https://pandas.pydata.org/pandas-docs/stable/user_guide/indexing.html#returning-a-view-versus-a-copy\n",
            "  df['year'] = df['year'].astype(int)\n",
            "<ipython-input-14-41d8fc82acb6>:13: SettingWithCopyWarning: \n",
            "A value is trying to be set on a copy of a slice from a DataFrame.\n",
            "Try using .loc[row_indexer,col_indexer] = value instead\n",
            "\n",
            "See the caveats in the documentation: https://pandas.pydata.org/pandas-docs/stable/user_guide/indexing.html#returning-a-view-versus-a-copy\n",
            "  df['month'] = df['month'].astype(int)\n",
            "<ipython-input-14-41d8fc82acb6>:19: SettingWithCopyWarning: \n",
            "A value is trying to be set on a copy of a slice from a DataFrame.\n",
            "Try using .loc[row_indexer,col_indexer] = value instead\n",
            "\n",
            "See the caveats in the documentation: https://pandas.pydata.org/pandas-docs/stable/user_guide/indexing.html#returning-a-view-versus-a-copy\n",
            "  df['lsoa_code'] = label_encoder.fit_transform(df['lsoa_code'])\n",
            "<ipython-input-14-41d8fc82acb6>:20: SettingWithCopyWarning: \n",
            "A value is trying to be set on a copy of a slice from a DataFrame.\n",
            "Try using .loc[row_indexer,col_indexer] = value instead\n",
            "\n",
            "See the caveats in the documentation: https://pandas.pydata.org/pandas-docs/stable/user_guide/indexing.html#returning-a-view-versus-a-copy\n",
            "  df['borough'] = label_encoder.fit_transform(df['borough'])\n",
            "<ipython-input-14-41d8fc82acb6>:21: SettingWithCopyWarning: \n",
            "A value is trying to be set on a copy of a slice from a DataFrame.\n",
            "Try using .loc[row_indexer,col_indexer] = value instead\n",
            "\n",
            "See the caveats in the documentation: https://pandas.pydata.org/pandas-docs/stable/user_guide/indexing.html#returning-a-view-versus-a-copy\n",
            "  df['major_category'] = label_encoder.fit_transform(df['major_category'])\n",
            "<ipython-input-14-41d8fc82acb6>:22: SettingWithCopyWarning: \n",
            "A value is trying to be set on a copy of a slice from a DataFrame.\n",
            "Try using .loc[row_indexer,col_indexer] = value instead\n",
            "\n",
            "See the caveats in the documentation: https://pandas.pydata.org/pandas-docs/stable/user_guide/indexing.html#returning-a-view-versus-a-copy\n",
            "  df['minor_category'] = label_encoder.fit_transform(df['minor_category'])\n"
          ]
        }
      ],
      "source": [
        "# Mengonversi kolom 'value' menjadi numerik\n",
        "df['value'] = pd.to_numeric(df['value'], errors='coerce')\n",
        "\n",
        "# Mengonversi kolom 'year' dan 'month' menjadi numerik (jika diperlukan)\n",
        "df['year'] = pd.to_numeric(df['year'], errors='coerce')\n",
        "df['month'] = pd.to_numeric(df['month'], errors='coerce')\n",
        "\n",
        "# Membersihkan baris yang memiliki nilai non-finite (NA atau inf)\n",
        "df = df.dropna(subset=['year', 'month'])\n",
        "\n",
        "# Mengonversi kolom 'year' dan 'month' menjadi tipe data integer\n",
        "df['year'] = df['year'].astype(int)\n",
        "df['month'] = df['month'].astype(int)\n",
        "\n",
        "# Inisialisasi Label Encoder\n",
        "label_encoder = LabelEncoder()\n",
        "\n",
        "# Mengubah data string menjadi numerik menggunakan Label Encoder\n",
        "df['lsoa_code'] = label_encoder.fit_transform(df['lsoa_code'])\n",
        "df['borough'] = label_encoder.fit_transform(df['borough'])\n",
        "df['major_category'] = label_encoder.fit_transform(df['major_category'])\n",
        "df['minor_category'] = label_encoder.fit_transform(df['minor_category'])\n",
        "\n",
        "# Menggabungkan kolom-kolom yang diperlukan\n",
        "data = df[['lsoa_code', 'borough', 'major_category', 'minor_category', 'value', 'year', 'month']].values\n"
      ]
    },
    {
      "cell_type": "code",
      "execution_count": null,
      "metadata": {
        "id": "ZZcc1d6iO6Kv"
      },
      "outputs": [],
      "source": [
        "import pandas as pd\n",
        "import numpy as np\n",
        "\n",
        "# Memuat data dari DataFrame ke dalam array numpy\n",
        "data = df.values\n",
        "\n",
        "# Menghapus baris dengan nilai null atau hilang\n",
        "data = data[~np.isnan(data).any(axis=1)]\n",
        "\n",
        "# Menghapus baris dengan nilai nol\n",
        "data = data[~np.all(data == 0, axis=1)]\n",
        "\n",
        "# Mengganti nilai null dengan nilai yang valid atau menggunakan teknik pengisian yang sesuai\n",
        "data[np.isnan(data)] = 0  # Mengganti nilai null dengan 0\n",
        "\n",
        "# Mengganti nilai yang tidak valid dengan nilai rata-rata kolom\n",
        "column_means = np.nanmean(data, axis=0)\n",
        "inds = np.where(np.isnan(data))\n",
        "data[inds] = np.take(column_means, inds[1])\n",
        "\n",
        "# Menambahkan kolom lsoa_code, borough, major_category, minor_category, value, year, month ke data\n",
        "lsoa_code = df['lsoa_code'].values\n",
        "borough = df['borough'].values\n",
        "major_category = df['major_category'].values\n",
        "minor_category = df['minor_category'].values\n",
        "value = df['value'].values\n",
        "year = df['year'].values\n",
        "month = df['month'].values\n",
        "\n",
        "data = np.column_stack((lsoa_code, borough, major_category, minor_category, value, year, month))\n",
        "\n",
        "# Membuat DataFrame baru dengan kolom yang sesuai\n",
        "columns = ['lsoa_code', 'borough', 'major_category', 'minor_category', 'value', 'year', 'month']\n",
        "cleaned_df = pd.DataFrame(data, columns=columns)\n"
      ]
    },
    {
      "cell_type": "code",
      "execution_count": null,
      "metadata": {
        "colab": {
          "base_uri": "https://localhost:8080/",
          "height": 74
        },
        "id": "oNttGlAiCCzT",
        "outputId": "2bb5aec0-b5a9-455d-eebe-d5f99b28d39c"
      },
      "outputs": [
        {
          "output_type": "execute_result",
          "data": {
            "text/plain": [
              "NearestNeighbors(metric='euclidean')"
            ],
            "text/html": [
              "<style>#sk-container-id-1 {color: black;background-color: white;}#sk-container-id-1 pre{padding: 0;}#sk-container-id-1 div.sk-toggleable {background-color: white;}#sk-container-id-1 label.sk-toggleable__label {cursor: pointer;display: block;width: 100%;margin-bottom: 0;padding: 0.3em;box-sizing: border-box;text-align: center;}#sk-container-id-1 label.sk-toggleable__label-arrow:before {content: \"▸\";float: left;margin-right: 0.25em;color: #696969;}#sk-container-id-1 label.sk-toggleable__label-arrow:hover:before {color: black;}#sk-container-id-1 div.sk-estimator:hover label.sk-toggleable__label-arrow:before {color: black;}#sk-container-id-1 div.sk-toggleable__content {max-height: 0;max-width: 0;overflow: hidden;text-align: left;background-color: #f0f8ff;}#sk-container-id-1 div.sk-toggleable__content pre {margin: 0.2em;color: black;border-radius: 0.25em;background-color: #f0f8ff;}#sk-container-id-1 input.sk-toggleable__control:checked~div.sk-toggleable__content {max-height: 200px;max-width: 100%;overflow: auto;}#sk-container-id-1 input.sk-toggleable__control:checked~label.sk-toggleable__label-arrow:before {content: \"▾\";}#sk-container-id-1 div.sk-estimator input.sk-toggleable__control:checked~label.sk-toggleable__label {background-color: #d4ebff;}#sk-container-id-1 div.sk-label input.sk-toggleable__control:checked~label.sk-toggleable__label {background-color: #d4ebff;}#sk-container-id-1 input.sk-hidden--visually {border: 0;clip: rect(1px 1px 1px 1px);clip: rect(1px, 1px, 1px, 1px);height: 1px;margin: -1px;overflow: hidden;padding: 0;position: absolute;width: 1px;}#sk-container-id-1 div.sk-estimator {font-family: monospace;background-color: #f0f8ff;border: 1px dotted black;border-radius: 0.25em;box-sizing: border-box;margin-bottom: 0.5em;}#sk-container-id-1 div.sk-estimator:hover {background-color: #d4ebff;}#sk-container-id-1 div.sk-parallel-item::after {content: \"\";width: 100%;border-bottom: 1px solid gray;flex-grow: 1;}#sk-container-id-1 div.sk-label:hover label.sk-toggleable__label {background-color: #d4ebff;}#sk-container-id-1 div.sk-serial::before {content: \"\";position: absolute;border-left: 1px solid gray;box-sizing: border-box;top: 0;bottom: 0;left: 50%;z-index: 0;}#sk-container-id-1 div.sk-serial {display: flex;flex-direction: column;align-items: center;background-color: white;padding-right: 0.2em;padding-left: 0.2em;position: relative;}#sk-container-id-1 div.sk-item {position: relative;z-index: 1;}#sk-container-id-1 div.sk-parallel {display: flex;align-items: stretch;justify-content: center;background-color: white;position: relative;}#sk-container-id-1 div.sk-item::before, #sk-container-id-1 div.sk-parallel-item::before {content: \"\";position: absolute;border-left: 1px solid gray;box-sizing: border-box;top: 0;bottom: 0;left: 50%;z-index: -1;}#sk-container-id-1 div.sk-parallel-item {display: flex;flex-direction: column;z-index: 1;position: relative;background-color: white;}#sk-container-id-1 div.sk-parallel-item:first-child::after {align-self: flex-end;width: 50%;}#sk-container-id-1 div.sk-parallel-item:last-child::after {align-self: flex-start;width: 50%;}#sk-container-id-1 div.sk-parallel-item:only-child::after {width: 0;}#sk-container-id-1 div.sk-dashed-wrapped {border: 1px dashed gray;margin: 0 0.4em 0.5em 0.4em;box-sizing: border-box;padding-bottom: 0.4em;background-color: white;}#sk-container-id-1 div.sk-label label {font-family: monospace;font-weight: bold;display: inline-block;line-height: 1.2em;}#sk-container-id-1 div.sk-label-container {text-align: center;}#sk-container-id-1 div.sk-container {/* jupyter's `normalize.less` sets `[hidden] { display: none; }` but bootstrap.min.css set `[hidden] { display: none !important; }` so we also need the `!important` here to be able to override the default hidden behavior on the sphinx rendered scikit-learn.org. See: https://github.com/scikit-learn/scikit-learn/issues/21755 */display: inline-block !important;position: relative;}#sk-container-id-1 div.sk-text-repr-fallback {display: none;}</style><div id=\"sk-container-id-1\" class=\"sk-top-container\"><div class=\"sk-text-repr-fallback\"><pre>NearestNeighbors(metric=&#x27;euclidean&#x27;)</pre><b>In a Jupyter environment, please rerun this cell to show the HTML representation or trust the notebook. <br />On GitHub, the HTML representation is unable to render, please try loading this page with nbviewer.org.</b></div><div class=\"sk-container\" hidden><div class=\"sk-item\"><div class=\"sk-estimator sk-toggleable\"><input class=\"sk-toggleable__control sk-hidden--visually\" id=\"sk-estimator-id-1\" type=\"checkbox\" checked><label for=\"sk-estimator-id-1\" class=\"sk-toggleable__label sk-toggleable__label-arrow\">NearestNeighbors</label><div class=\"sk-toggleable__content\"><pre>NearestNeighbors(metric=&#x27;euclidean&#x27;)</pre></div></div></div></div></div>"
            ]
          },
          "metadata": {},
          "execution_count": 16
        }
      ],
      "source": [
        "k = 5\n",
        "knn = NearestNeighbors(n_neighbors=k, metric='euclidean')\n",
        "knn.fit(data)\n"
      ]
    },
    {
      "cell_type": "code",
      "execution_count": null,
      "metadata": {
        "id": "Kos2BgR_EUvI"
      },
      "outputs": [],
      "source": [
        "from sklearn.model_selection import train_test_split\n",
        "\n",
        "# Pisahkan fitur (X) dan target (y)\n",
        "X = data[:, :-1]  # Fitur\n",
        "y = data[:, -1]   # Target\n",
        "\n",
        "# Bagi data menjadi dataset dan dataset uji\n",
        "X_train, X_test, y_train, y_test = train_test_split(X, y, test_size=0.2, random_state=42)\n"
      ]
    },
    {
      "cell_type": "code",
      "execution_count": null,
      "metadata": {
        "colab": {
          "base_uri": "https://localhost:8080/",
          "height": 74
        },
        "id": "YC_ewC1JIx4C",
        "outputId": "ae4d555e-4c05-455c-e62c-474cc63bb1a2"
      },
      "outputs": [
        {
          "output_type": "execute_result",
          "data": {
            "text/plain": [
              "KNeighborsClassifier(n_neighbors=3)"
            ],
            "text/html": [
              "<style>#sk-container-id-2 {color: black;background-color: white;}#sk-container-id-2 pre{padding: 0;}#sk-container-id-2 div.sk-toggleable {background-color: white;}#sk-container-id-2 label.sk-toggleable__label {cursor: pointer;display: block;width: 100%;margin-bottom: 0;padding: 0.3em;box-sizing: border-box;text-align: center;}#sk-container-id-2 label.sk-toggleable__label-arrow:before {content: \"▸\";float: left;margin-right: 0.25em;color: #696969;}#sk-container-id-2 label.sk-toggleable__label-arrow:hover:before {color: black;}#sk-container-id-2 div.sk-estimator:hover label.sk-toggleable__label-arrow:before {color: black;}#sk-container-id-2 div.sk-toggleable__content {max-height: 0;max-width: 0;overflow: hidden;text-align: left;background-color: #f0f8ff;}#sk-container-id-2 div.sk-toggleable__content pre {margin: 0.2em;color: black;border-radius: 0.25em;background-color: #f0f8ff;}#sk-container-id-2 input.sk-toggleable__control:checked~div.sk-toggleable__content {max-height: 200px;max-width: 100%;overflow: auto;}#sk-container-id-2 input.sk-toggleable__control:checked~label.sk-toggleable__label-arrow:before {content: \"▾\";}#sk-container-id-2 div.sk-estimator input.sk-toggleable__control:checked~label.sk-toggleable__label {background-color: #d4ebff;}#sk-container-id-2 div.sk-label input.sk-toggleable__control:checked~label.sk-toggleable__label {background-color: #d4ebff;}#sk-container-id-2 input.sk-hidden--visually {border: 0;clip: rect(1px 1px 1px 1px);clip: rect(1px, 1px, 1px, 1px);height: 1px;margin: -1px;overflow: hidden;padding: 0;position: absolute;width: 1px;}#sk-container-id-2 div.sk-estimator {font-family: monospace;background-color: #f0f8ff;border: 1px dotted black;border-radius: 0.25em;box-sizing: border-box;margin-bottom: 0.5em;}#sk-container-id-2 div.sk-estimator:hover {background-color: #d4ebff;}#sk-container-id-2 div.sk-parallel-item::after {content: \"\";width: 100%;border-bottom: 1px solid gray;flex-grow: 1;}#sk-container-id-2 div.sk-label:hover label.sk-toggleable__label {background-color: #d4ebff;}#sk-container-id-2 div.sk-serial::before {content: \"\";position: absolute;border-left: 1px solid gray;box-sizing: border-box;top: 0;bottom: 0;left: 50%;z-index: 0;}#sk-container-id-2 div.sk-serial {display: flex;flex-direction: column;align-items: center;background-color: white;padding-right: 0.2em;padding-left: 0.2em;position: relative;}#sk-container-id-2 div.sk-item {position: relative;z-index: 1;}#sk-container-id-2 div.sk-parallel {display: flex;align-items: stretch;justify-content: center;background-color: white;position: relative;}#sk-container-id-2 div.sk-item::before, #sk-container-id-2 div.sk-parallel-item::before {content: \"\";position: absolute;border-left: 1px solid gray;box-sizing: border-box;top: 0;bottom: 0;left: 50%;z-index: -1;}#sk-container-id-2 div.sk-parallel-item {display: flex;flex-direction: column;z-index: 1;position: relative;background-color: white;}#sk-container-id-2 div.sk-parallel-item:first-child::after {align-self: flex-end;width: 50%;}#sk-container-id-2 div.sk-parallel-item:last-child::after {align-self: flex-start;width: 50%;}#sk-container-id-2 div.sk-parallel-item:only-child::after {width: 0;}#sk-container-id-2 div.sk-dashed-wrapped {border: 1px dashed gray;margin: 0 0.4em 0.5em 0.4em;box-sizing: border-box;padding-bottom: 0.4em;background-color: white;}#sk-container-id-2 div.sk-label label {font-family: monospace;font-weight: bold;display: inline-block;line-height: 1.2em;}#sk-container-id-2 div.sk-label-container {text-align: center;}#sk-container-id-2 div.sk-container {/* jupyter's `normalize.less` sets `[hidden] { display: none; }` but bootstrap.min.css set `[hidden] { display: none !important; }` so we also need the `!important` here to be able to override the default hidden behavior on the sphinx rendered scikit-learn.org. See: https://github.com/scikit-learn/scikit-learn/issues/21755 */display: inline-block !important;position: relative;}#sk-container-id-2 div.sk-text-repr-fallback {display: none;}</style><div id=\"sk-container-id-2\" class=\"sk-top-container\"><div class=\"sk-text-repr-fallback\"><pre>KNeighborsClassifier(n_neighbors=3)</pre><b>In a Jupyter environment, please rerun this cell to show the HTML representation or trust the notebook. <br />On GitHub, the HTML representation is unable to render, please try loading this page with nbviewer.org.</b></div><div class=\"sk-container\" hidden><div class=\"sk-item\"><div class=\"sk-estimator sk-toggleable\"><input class=\"sk-toggleable__control sk-hidden--visually\" id=\"sk-estimator-id-2\" type=\"checkbox\" checked><label for=\"sk-estimator-id-2\" class=\"sk-toggleable__label sk-toggleable__label-arrow\">KNeighborsClassifier</label><div class=\"sk-toggleable__content\"><pre>KNeighborsClassifier(n_neighbors=3)</pre></div></div></div></div></div>"
            ]
          },
          "metadata": {},
          "execution_count": 18
        }
      ],
      "source": [
        "from sklearn.neighbors import KNeighborsClassifier\n",
        "\n",
        "k = 3\n",
        "knn = KNeighborsClassifier(n_neighbors=k)\n",
        "knn.fit(X_train, y_train)\n"
      ]
    },
    {
      "cell_type": "code",
      "execution_count": null,
      "metadata": {
        "id": "nUQBxDmSI3oK"
      },
      "outputs": [],
      "source": [
        "y_pred = knn.predict(X_test)\n"
      ]
    },
    {
      "cell_type": "code",
      "execution_count": null,
      "metadata": {
        "colab": {
          "base_uri": "https://localhost:8080/"
        },
        "id": "Jnbuzb7wI_7r",
        "outputId": "7a798bcd-2034-48fd-e4e6-6b7983270b7a"
      },
      "outputs": [
        {
          "output_type": "stream",
          "name": "stdout",
          "text": [
            "Akurasi:  0.08256427158866184\n"
          ]
        }
      ],
      "source": [
        "from sklearn.metrics import accuracy_score\n",
        "\n",
        "accuracy = accuracy_score(y_test, y_pred)\n",
        "print(\"Akurasi: \", accuracy)\n"
      ]
    },
    {
      "cell_type": "code",
      "source": [
        ">>> from sklearn.model_selection import train_test_split\n",
        ">>> X_train, X_test, y_train, y_test = train_test_split(\n",
        "...     X, y, test_size=0.2, random_state=12345\n",
        "... )"
      ],
      "metadata": {
        "id": "f_VrPKKgjOIU"
      },
      "execution_count": null,
      "outputs": []
    },
    {
      "cell_type": "code",
      "source": [
        ">>> from sklearn.neighbors import KNeighborsRegressor\n",
        ">>> knn_model = KNeighborsRegressor(n_neighbors=3)"
      ],
      "metadata": {
        "id": "WkbY6r-DjQBW"
      },
      "execution_count": null,
      "outputs": []
    },
    {
      "cell_type": "code",
      "source": [
        ">>> knn_model.fit(X_train, y_train)"
      ],
      "metadata": {
        "colab": {
          "base_uri": "https://localhost:8080/",
          "height": 74
        },
        "id": "Vh9UAKQ4jWZD",
        "outputId": "6e9ede02-61e0-4a75-c27b-e3734d8840a6"
      },
      "execution_count": null,
      "outputs": [
        {
          "output_type": "execute_result",
          "data": {
            "text/plain": [
              "KNeighborsRegressor(n_neighbors=3)"
            ],
            "text/html": [
              "<style>#sk-container-id-3 {color: black;background-color: white;}#sk-container-id-3 pre{padding: 0;}#sk-container-id-3 div.sk-toggleable {background-color: white;}#sk-container-id-3 label.sk-toggleable__label {cursor: pointer;display: block;width: 100%;margin-bottom: 0;padding: 0.3em;box-sizing: border-box;text-align: center;}#sk-container-id-3 label.sk-toggleable__label-arrow:before {content: \"▸\";float: left;margin-right: 0.25em;color: #696969;}#sk-container-id-3 label.sk-toggleable__label-arrow:hover:before {color: black;}#sk-container-id-3 div.sk-estimator:hover label.sk-toggleable__label-arrow:before {color: black;}#sk-container-id-3 div.sk-toggleable__content {max-height: 0;max-width: 0;overflow: hidden;text-align: left;background-color: #f0f8ff;}#sk-container-id-3 div.sk-toggleable__content pre {margin: 0.2em;color: black;border-radius: 0.25em;background-color: #f0f8ff;}#sk-container-id-3 input.sk-toggleable__control:checked~div.sk-toggleable__content {max-height: 200px;max-width: 100%;overflow: auto;}#sk-container-id-3 input.sk-toggleable__control:checked~label.sk-toggleable__label-arrow:before {content: \"▾\";}#sk-container-id-3 div.sk-estimator input.sk-toggleable__control:checked~label.sk-toggleable__label {background-color: #d4ebff;}#sk-container-id-3 div.sk-label input.sk-toggleable__control:checked~label.sk-toggleable__label {background-color: #d4ebff;}#sk-container-id-3 input.sk-hidden--visually {border: 0;clip: rect(1px 1px 1px 1px);clip: rect(1px, 1px, 1px, 1px);height: 1px;margin: -1px;overflow: hidden;padding: 0;position: absolute;width: 1px;}#sk-container-id-3 div.sk-estimator {font-family: monospace;background-color: #f0f8ff;border: 1px dotted black;border-radius: 0.25em;box-sizing: border-box;margin-bottom: 0.5em;}#sk-container-id-3 div.sk-estimator:hover {background-color: #d4ebff;}#sk-container-id-3 div.sk-parallel-item::after {content: \"\";width: 100%;border-bottom: 1px solid gray;flex-grow: 1;}#sk-container-id-3 div.sk-label:hover label.sk-toggleable__label {background-color: #d4ebff;}#sk-container-id-3 div.sk-serial::before {content: \"\";position: absolute;border-left: 1px solid gray;box-sizing: border-box;top: 0;bottom: 0;left: 50%;z-index: 0;}#sk-container-id-3 div.sk-serial {display: flex;flex-direction: column;align-items: center;background-color: white;padding-right: 0.2em;padding-left: 0.2em;position: relative;}#sk-container-id-3 div.sk-item {position: relative;z-index: 1;}#sk-container-id-3 div.sk-parallel {display: flex;align-items: stretch;justify-content: center;background-color: white;position: relative;}#sk-container-id-3 div.sk-item::before, #sk-container-id-3 div.sk-parallel-item::before {content: \"\";position: absolute;border-left: 1px solid gray;box-sizing: border-box;top: 0;bottom: 0;left: 50%;z-index: -1;}#sk-container-id-3 div.sk-parallel-item {display: flex;flex-direction: column;z-index: 1;position: relative;background-color: white;}#sk-container-id-3 div.sk-parallel-item:first-child::after {align-self: flex-end;width: 50%;}#sk-container-id-3 div.sk-parallel-item:last-child::after {align-self: flex-start;width: 50%;}#sk-container-id-3 div.sk-parallel-item:only-child::after {width: 0;}#sk-container-id-3 div.sk-dashed-wrapped {border: 1px dashed gray;margin: 0 0.4em 0.5em 0.4em;box-sizing: border-box;padding-bottom: 0.4em;background-color: white;}#sk-container-id-3 div.sk-label label {font-family: monospace;font-weight: bold;display: inline-block;line-height: 1.2em;}#sk-container-id-3 div.sk-label-container {text-align: center;}#sk-container-id-3 div.sk-container {/* jupyter's `normalize.less` sets `[hidden] { display: none; }` but bootstrap.min.css set `[hidden] { display: none !important; }` so we also need the `!important` here to be able to override the default hidden behavior on the sphinx rendered scikit-learn.org. See: https://github.com/scikit-learn/scikit-learn/issues/21755 */display: inline-block !important;position: relative;}#sk-container-id-3 div.sk-text-repr-fallback {display: none;}</style><div id=\"sk-container-id-3\" class=\"sk-top-container\"><div class=\"sk-text-repr-fallback\"><pre>KNeighborsRegressor(n_neighbors=3)</pre><b>In a Jupyter environment, please rerun this cell to show the HTML representation or trust the notebook. <br />On GitHub, the HTML representation is unable to render, please try loading this page with nbviewer.org.</b></div><div class=\"sk-container\" hidden><div class=\"sk-item\"><div class=\"sk-estimator sk-toggleable\"><input class=\"sk-toggleable__control sk-hidden--visually\" id=\"sk-estimator-id-3\" type=\"checkbox\" checked><label for=\"sk-estimator-id-3\" class=\"sk-toggleable__label sk-toggleable__label-arrow\">KNeighborsRegressor</label><div class=\"sk-toggleable__content\"><pre>KNeighborsRegressor(n_neighbors=3)</pre></div></div></div></div></div>"
            ]
          },
          "metadata": {},
          "execution_count": 23
        }
      ]
    },
    {
      "cell_type": "code",
      "source": [
        ">>> from sklearn.metrics import mean_squared_error\n",
        ">>> from math import sqrt\n",
        ">>> train_preds = knn_model.predict(X_train)\n",
        ">>> mse = mean_squared_error(y_train, train_preds)\n",
        ">>> rmse = sqrt(mse)\n",
        ">>> rmse"
      ],
      "metadata": {
        "colab": {
          "base_uri": "https://localhost:8080/"
        },
        "id": "cc0yHMD-jahJ",
        "outputId": "3f67f0fe-7fbd-46a8-e98f-f90a69ff6f85"
      },
      "execution_count": null,
      "outputs": [
        {
          "output_type": "execute_result",
          "data": {
            "text/plain": [
              "2.8079536611595532"
            ]
          },
          "metadata": {},
          "execution_count": 24
        }
      ]
    },
    {
      "cell_type": "code",
      "source": [
        ">>> test_preds = knn_model.predict(X_test)\n",
        ">>> mse = mean_squared_error(y_test, test_preds)\n",
        ">>> rmse = sqrt(mse)\n",
        ">>> rmse"
      ],
      "metadata": {
        "colab": {
          "base_uri": "https://localhost:8080/"
        },
        "id": "wsQYUuWZjdcK",
        "outputId": "f90607e4-43c8-4ea5-a535-5845dfc06fae"
      },
      "execution_count": null,
      "outputs": [
        {
          "output_type": "execute_result",
          "data": {
            "text/plain": [
              "3.964109658535835"
            ]
          },
          "metadata": {},
          "execution_count": 25
        }
      ]
    },
    {
      "cell_type": "code",
      "source": [
        ">>> import seaborn as sns\n",
        ">>> cmap = sns.cubehelix_palette(as_cmap=True)\n",
        ">>> f, ax = plt.subplots()\n",
        ">>> points = ax.scatter(\n",
        "...     X_test[:, 0], X_test[:, 1], c=test_preds, s=50, cmap=cmap\n",
        "... )\n",
        ">>> f.colorbar(points)\n",
        ">>> plt.show()"
      ],
      "metadata": {
        "colab": {
          "base_uri": "https://localhost:8080/",
          "height": 435
        },
        "id": "r6xoWUrljhbj",
        "outputId": "aaa3bce5-60b1-4451-ef35-9ba48b572a69"
      },
      "execution_count": null,
      "outputs": [
        {
          "output_type": "display_data",
          "data": {
            "text/plain": [
              "<Figure size 640x480 with 2 Axes>"
            ],
            "image/png": "[encoded data removed]"
          },
          "metadata": {}
        }
      ]
    },
    {
      "cell_type": "code",
      "source": [
        ">>> cmap = sns.cubehelix_palette(as_cmap=True)\n",
        ">>> f, ax = plt.subplots()\n",
        ">>> points = ax.scatter(\n",
        "...     X_test[:, 0], X_test[:, 1], c=y_test, s=50, cmap=cmap\n",
        ">>> )\n",
        ">>> f.colorbar(points)\n",
        ">>> plt.show()"
      ],
      "metadata": {
        "colab": {
          "base_uri": "https://localhost:8080/",
          "height": 435
        },
        "id": "C0PLelgdjnMn",
        "outputId": "ddee6ff3-8de1-485b-d14b-36b6c5625568"
      },
      "execution_count": null,
      "outputs": [
        {
          "output_type": "display_data",
          "data": {
            "text/plain": [
              "<Figure size 640x480 with 2 Axes>"
            ],
            "image/png": "[encoded data removed]"
          },
          "metadata": {}
        }
      ]
    },
    {
      "cell_type": "code",
      "source": [
        ">>> cmap = sns.cubehelix_palette(as_cmap=True)\n",
        ">>> f, ax = plt.subplots()\n",
        ">>> points = ax.scatter(\n",
        "...     X_test[:, 0], X_test[:, 1], c=y_test, s=50, cmap=cmap\n",
        ">>> )\n",
        ">>> f.colorbar(points)\n",
        ">>> plt.show()"
      ],
      "metadata": {
        "colab": {
          "base_uri": "https://localhost:8080/",
          "height": 435
        },
        "id": "kJ6E-Wtijr9y",
        "outputId": "815708fb-9e8a-4691-8a29-164d6f35546d"
      },
      "execution_count": null,
      "outputs": [
        {
          "output_type": "display_data",
          "data": {
            "text/plain": [
              "<Figure size 640x480 with 2 Axes>"
            ],
            "image/png": "[encoded data removed]"
          },
          "metadata": {}
        }
      ]
    },
    {
      "cell_type": "code",
      "source": [
        ">>> from sklearn.model_selection import GridSearchCV\n",
        ">>> parameters = {\"n_neighbors\": range(1, 50)}\n",
        ">>> gridsearch = GridSearchCV(KNeighborsRegressor(), parameters)\n",
        ">>> gridsearch.fit(X_train, y_train)\n",
        "GridSearchCV(estimator=KNeighborsRegressor(),\n",
        "             param_grid={'n_neighbors': range(1, 50),\n",
        "                         'weights': ['uniform', 'distance']})"
      ],
      "metadata": {
        "colab": {
          "base_uri": "https://localhost:8080/",
          "height": 117
        },
        "id": "n8N9Xp9blUxQ",
        "outputId": "e8b82588-f19c-4c57-aac0-5ee2e6146bee"
      },
      "execution_count": null,
      "outputs": [
        {
          "output_type": "execute_result",
          "data": {
            "text/plain": [
              "GridSearchCV(estimator=KNeighborsRegressor(),\n",
              "             param_grid={'n_neighbors': range(1, 50),\n",
              "                         'weights': ['uniform', 'distance']})"
            ],
            "text/html": [
              "<style>#sk-container-id-4 {color: black;background-color: white;}#sk-container-id-4 pre{padding: 0;}#sk-container-id-4 div.sk-toggleable {background-color: white;}#sk-container-id-4 label.sk-toggleable__label {cursor: pointer;display: block;width: 100%;margin-bottom: 0;padding: 0.3em;box-sizing: border-box;text-align: center;}#sk-container-id-4 label.sk-toggleable__label-arrow:before {content: \"▸\";float: left;margin-right: 0.25em;color: #696969;}#sk-container-id-4 label.sk-toggleable__label-arrow:hover:before {color: black;}#sk-container-id-4 div.sk-estimator:hover label.sk-toggleable__label-arrow:before {color: black;}#sk-container-id-4 div.sk-toggleable__content {max-height: 0;max-width: 0;overflow: hidden;text-align: left;background-color: #f0f8ff;}#sk-container-id-4 div.sk-toggleable__content pre {margin: 0.2em;color: black;border-radius: 0.25em;background-color: #f0f8ff;}#sk-container-id-4 input.sk-toggleable__control:checked~div.sk-toggleable__content {max-height: 200px;max-width: 100%;overflow: auto;}#sk-container-id-4 input.sk-toggleable__control:checked~label.sk-toggleable__label-arrow:before {content: \"▾\";}#sk-container-id-4 div.sk-estimator input.sk-toggleable__control:checked~label.sk-toggleable__label {background-color: #d4ebff;}#sk-container-id-4 div.sk-label input.sk-toggleable__control:checked~label.sk-toggleable__label {background-color: #d4ebff;}#sk-container-id-4 input.sk-hidden--visually {border: 0;clip: rect(1px 1px 1px 1px);clip: rect(1px, 1px, 1px, 1px);height: 1px;margin: -1px;overflow: hidden;padding: 0;position: absolute;width: 1px;}#sk-container-id-4 div.sk-estimator {font-family: monospace;background-color: #f0f8ff;border: 1px dotted black;border-radius: 0.25em;box-sizing: border-box;margin-bottom: 0.5em;}#sk-container-id-4 div.sk-estimator:hover {background-color: #d4ebff;}#sk-container-id-4 div.sk-parallel-item::after {content: \"\";width: 100%;border-bottom: 1px solid gray;flex-grow: 1;}#sk-container-id-4 div.sk-label:hover label.sk-toggleable__label {background-color: #d4ebff;}#sk-container-id-4 div.sk-serial::before {content: \"\";position: absolute;border-left: 1px solid gray;box-sizing: border-box;top: 0;bottom: 0;left: 50%;z-index: 0;}#sk-container-id-4 div.sk-serial {display: flex;flex-direction: column;align-items: center;background-color: white;padding-right: 0.2em;padding-left: 0.2em;position: relative;}#sk-container-id-4 div.sk-item {position: relative;z-index: 1;}#sk-container-id-4 div.sk-parallel {display: flex;align-items: stretch;justify-content: center;background-color: white;position: relative;}#sk-container-id-4 div.sk-item::before, #sk-container-id-4 div.sk-parallel-item::before {content: \"\";position: absolute;border-left: 1px solid gray;box-sizing: border-box;top: 0;bottom: 0;left: 50%;z-index: -1;}#sk-container-id-4 div.sk-parallel-item {display: flex;flex-direction: column;z-index: 1;position: relative;background-color: white;}#sk-container-id-4 div.sk-parallel-item:first-child::after {align-self: flex-end;width: 50%;}#sk-container-id-4 div.sk-parallel-item:last-child::after {align-self: flex-start;width: 50%;}#sk-container-id-4 div.sk-parallel-item:only-child::after {width: 0;}#sk-container-id-4 div.sk-dashed-wrapped {border: 1px dashed gray;margin: 0 0.4em 0.5em 0.4em;box-sizing: border-box;padding-bottom: 0.4em;background-color: white;}#sk-container-id-4 div.sk-label label {font-family: monospace;font-weight: bold;display: inline-block;line-height: 1.2em;}#sk-container-id-4 div.sk-label-container {text-align: center;}#sk-container-id-4 div.sk-container {/* jupyter's `normalize.less` sets `[hidden] { display: none; }` but bootstrap.min.css set `[hidden] { display: none !important; }` so we also need the `!important` here to be able to override the default hidden behavior on the sphinx rendered scikit-learn.org. See: https://github.com/scikit-learn/scikit-learn/issues/21755 */display: inline-block !important;position: relative;}#sk-container-id-4 div.sk-text-repr-fallback {display: none;}</style><div id=\"sk-container-id-4\" class=\"sk-top-container\"><div class=\"sk-text-repr-fallback\"><pre>GridSearchCV(estimator=KNeighborsRegressor(),\n",
              "             param_grid={&#x27;n_neighbors&#x27;: range(1, 50),\n",
              "                         &#x27;weights&#x27;: [&#x27;uniform&#x27;, &#x27;distance&#x27;]})</pre><b>In a Jupyter environment, please rerun this cell to show the HTML representation or trust the notebook. <br />On GitHub, the HTML representation is unable to render, please try loading this page with nbviewer.org.</b></div><div class=\"sk-container\" hidden><div class=\"sk-item sk-dashed-wrapped\"><div class=\"sk-label-container\"><div class=\"sk-label sk-toggleable\"><input class=\"sk-toggleable__control sk-hidden--visually\" id=\"sk-estimator-id-4\" type=\"checkbox\" ><label for=\"sk-estimator-id-4\" class=\"sk-toggleable__label sk-toggleable__label-arrow\">GridSearchCV</label><div class=\"sk-toggleable__content\"><pre>GridSearchCV(estimator=KNeighborsRegressor(),\n",
              "             param_grid={&#x27;n_neighbors&#x27;: range(1, 50),\n",
              "                         &#x27;weights&#x27;: [&#x27;uniform&#x27;, &#x27;distance&#x27;]})</pre></div></div></div><div class=\"sk-parallel\"><div class=\"sk-parallel-item\"><div class=\"sk-item\"><div class=\"sk-label-container\"><div class=\"sk-label sk-toggleable\"><input class=\"sk-toggleable__control sk-hidden--visually\" id=\"sk-estimator-id-5\" type=\"checkbox\" ><label for=\"sk-estimator-id-5\" class=\"sk-toggleable__label sk-toggleable__label-arrow\">estimator: KNeighborsRegressor</label><div class=\"sk-toggleable__content\"><pre>KNeighborsRegressor()</pre></div></div></div><div class=\"sk-serial\"><div class=\"sk-item\"><div class=\"sk-estimator sk-toggleable\"><input class=\"sk-toggleable__control sk-hidden--visually\" id=\"sk-estimator-id-6\" type=\"checkbox\" ><label for=\"sk-estimator-id-6\" class=\"sk-toggleable__label sk-toggleable__label-arrow\">KNeighborsRegressor</label><div class=\"sk-toggleable__content\"><pre>KNeighborsRegressor()</pre></div></div></div></div></div></div></div></div></div></div>"
            ]
          },
          "metadata": {},
          "execution_count": 31
        }
      ]
    },
    {
      "cell_type": "code",
      "source": [
        ">>> gridsearch.best_params_\n",
        "{'n_neighbors': 25, 'weights': 'distance'}"
      ],
      "metadata": {
        "colab": {
          "base_uri": "https://localhost:8080/"
        },
        "id": "bRNBarSMlgTs",
        "outputId": "798b301a-7b1d-433d-c127-a4063dee5e3a"
      },
      "execution_count": null,
      "outputs": [
        {
          "output_type": "execute_result",
          "data": {
            "text/plain": [
              "{'n_neighbors': 25, 'weights': 'distance'}"
            ]
          },
          "metadata": {},
          "execution_count": 32
        }
      ]
    },
    {
      "cell_type": "code",
      "source": [
        ">>> train_preds_grid = gridsearch.predict(X_train)\n",
        ">>> train_mse = mean_squared_error(y_train, train_preds_grid)\n",
        ">>> train_rmse = sqrt(train_mse)\n",
        ">>> test_preds_grid = gridsearch.predict(X_test)\n",
        ">>> test_mse = mean_squared_error(y_test, test_preds_grid)\n",
        ">>> test_rmse = sqrt(test_mse)\n",
        ">>> train_rmse"
      ],
      "metadata": {
        "colab": {
          "base_uri": "https://localhost:8080/"
        },
        "id": "VXQ2lCculmlq",
        "outputId": "ea43452a-e7e0-48a2-f0ac-59009f28390d"
      },
      "execution_count": null,
      "outputs": [
        {
          "output_type": "execute_result",
          "data": {
            "text/plain": [
              "3.414338462903458"
            ]
          },
          "metadata": {},
          "execution_count": 33
        }
      ]
    },
    {
      "cell_type": "code",
      "source": [
        "print(test_rmse)\n"
      ],
      "metadata": {
        "colab": {
          "base_uri": "https://localhost:8080/"
        },
        "id": "uWu6_cRGlplt",
        "outputId": "0d1d36bc-cd8e-4919-e4d1-b3c85bdcc670"
      },
      "execution_count": null,
      "outputs": [
        {
          "output_type": "stream",
          "name": "stdout",
          "text": [
            "3.4582102990921304\n"
          ]
        }
      ]
    },
    {
      "cell_type": "code",
      "source": [
        ">>> parameters = {\n",
        "...     \"n_neighbors\": range(1, 50),\n",
        "...     \"weights\": [\"uniform\", \"distance\"],\n",
        "... }\n",
        ">>> gridsearch = GridSearchCV(KNeighborsRegressor(), parameters)\n",
        ">>> gridsearch.fit(X_train, y_train)\n",
        "GridSearchCV(estimator=KNeighborsRegressor(),\n",
        "             param_grid={'n_neighbors': range(1, 50),\n",
        "                         'weights': ['uniform', 'distance']})\n",
        ">>> gridsearch.best_params_\n",
        "{'n_neighbors': 25, 'weights': 'distance'}\n",
        ">>> test_preds_grid = gridsearch.predict(X_test)\n",
        ">>> test_mse = mean_squared_error(y_test, test_preds_grid)\n",
        ">>> test_rmse = sqrt(test_mse)\n",
        ">>> test_rmse"
      ],
      "metadata": {
        "colab": {
          "base_uri": "https://localhost:8080/"
        },
        "id": "nrnKxPq9l0-q",
        "outputId": "f1bf8b43-9f54-4772-ebbe-e79ce5f62fa6"
      },
      "execution_count": null,
      "outputs": [
        {
          "output_type": "execute_result",
          "data": {
            "text/plain": [
              "3.4582102990921304"
            ]
          },
          "metadata": {},
          "execution_count": 35
        }
      ]
    },
    {
      "cell_type": "code",
      "source": [
        ">>> best_k = gridsearch.best_params_[\"n_neighbors\"]\n",
        ">>> best_weights = gridsearch.best_params_[\"weights\"]\n",
        ">>> bagged_knn = KNeighborsRegressor(\n",
        "...     n_neighbors=best_k, weights=best_weights\n",
        "... )"
      ],
      "metadata": {
        "id": "DKeu1PCFl8Yh"
      },
      "execution_count": null,
      "outputs": []
    },
    {
      "cell_type": "code",
      "source": [
        ">>> from sklearn.ensemble import BaggingRegressor\n",
        ">>> bagging_model = BaggingRegressor(bagged_knn, n_estimators=100)"
      ],
      "metadata": {
        "id": "4ZxMXl4YmChs"
      },
      "execution_count": null,
      "outputs": []
    },
    {
      "cell_type": "code",
      "source": [
        "from sklearn.ensemble import BaggingRegressor\n",
        "from sklearn.metrics import mean_squared_error\n",
        "from math import sqrt\n",
        "\n",
        "# Inisialisasi model BaggingRegressor\n",
        "bagging_model = BaggingRegressor()\n",
        "\n",
        "# Melakukan fitting pada model dengan data pelatihan (X_train, y_train)\n",
        "bagging_model.fit(X_train, y_train)\n",
        "\n",
        "# Melakukan prediksi pada data pengujian (X_test)\n",
        "test_preds_grid = bagging_model.predict(X_test)\n",
        "\n",
        "# Menghitung mean squared error (MSE)\n",
        "test_mse = mean_squared_error(y_test, test_preds_grid)\n",
        "\n",
        "# Menghitung root mean squared error (RMSE)\n",
        "test_rmse = sqrt(test_mse)\n",
        "\n",
        "# Cetak nilai RMSE\n",
        "print(test_rmse)\n"
      ],
      "metadata": {
        "colab": {
          "base_uri": "https://localhost:8080/"
        },
        "id": "3ED2dFA1mFxb",
        "outputId": "61fb7407-8ec8-4811-be36-0f0916caaac9"
      },
      "execution_count": null,
      "outputs": [
        {
          "output_type": "stream",
          "name": "stdout",
          "text": [
            "3.794288689717954\n"
          ]
        }
      ]
    },
    {
      "cell_type": "code",
      "source": [
        "from sklearn import neighbors, preprocessing\n",
        "from sklearn.model_selection import train_test_split\n",
        "from sklearn.metrics import accuracy_score, classification_report, confusion_matrix\n",
        "\n",
        "# Menggunakan dataset dari DataFrame yang telah didefinisikan sebelumnya (misalnya, df)\n",
        "X = df.drop(columns=['borough'])  # Ganti 'target' dengan kolom target yang sesuai\n",
        "y = df['month']  # Ganti 'target' dengan kolom target yang sesuai\n",
        "\n",
        "Xtrain, Xtest, y_train, y_test = train_test_split(X, y, stratify=y, random_state=0, train_size=0.7)\n",
        "\n",
        "scaler = preprocessing.StandardScaler().fit(Xtrain)\n",
        "Xtrain = scaler.transform(Xtrain)\n",
        "Xtest = scaler.transform(Xtest)\n",
        "\n",
        "knn = neighbors.KNeighborsClassifier(n_neighbors=3)\n",
        "knn.fit(Xtrain, y_train)\n",
        "y_pred = knn.predict(Xtest)\n",
        "\n",
        "print(accuracy_score(y_test, y_pred))\n",
        "print(classification_report(y_test, y_pred))\n",
        "print(confusion_matrix(y_test, y_pred))\n"
      ],
      "metadata": {
        "colab": {
          "base_uri": "https://localhost:8080/"
        },
        "id": "7GzWIp1nmQzo",
        "outputId": "33f41544-b338-44f1-cddc-c6d0909c4cf0"
      },
      "execution_count": null,
      "outputs": [
        {
          "output_type": "stream",
          "name": "stdout",
          "text": [
            "0.6220610854757196\n",
            "              precision    recall  f1-score   support\n",
            "\n",
            "           1       0.73      0.77      0.75       749\n",
            "           2       0.56      0.61      0.58       771\n",
            "           3       0.59      0.61      0.60       759\n",
            "           4       0.62      0.60      0.61       792\n",
            "           5       0.58      0.61      0.60       779\n",
            "           6       0.59      0.55      0.57       741\n",
            "           7       0.59      0.61      0.60       740\n",
            "           8       0.60      0.60      0.60       759\n",
            "           9       0.60      0.57      0.59       768\n",
            "          10       0.57      0.61      0.59       769\n",
            "          11       0.61      0.57      0.59       722\n",
            "          12       0.85      0.76      0.80       753\n",
            "\n",
            "    accuracy                           0.62      9102\n",
            "   macro avg       0.62      0.62      0.62      9102\n",
            "weighted avg       0.62      0.62      0.62      9102\n",
            "\n",
            "[[577 165   6   1   0   0   0   0   0   0   0   0]\n",
            " [201 472  95   3   0   0   0   0   0   0   0   0]\n",
            " [ 16 201 463  76   3   0   0   0   0   0   0   0]\n",
            " [  0   7 201 476 107   1   0   0   0   0   0   0]\n",
            " [  0   0  13 204 478  83   1   0   0   0   0   0]\n",
            " [  0   1   1   8 221 407 100   2   1   0   0   0]\n",
            " [  0   0   0   1  10 192 450  86   1   0   0   0]\n",
            " [  0   0   0   0   1  11 198 454  94   1   0   0]\n",
            " [  0   0   0   0   2   1  13 201 439 112   0   0]\n",
            " [  1   0   0   1   0   0   3   8 181 468 106   1]\n",
            " [  0   0   0   0   0   0   0   2  10 206 408  96]\n",
            " [  0   0   0   1   0   0   1   2   1  27 151 570]]\n"
          ]
        }
      ]
    },
    {
      "cell_type": "code",
      "source": [
        "from sklearn import neighbors, preprocessing\n",
        "from sklearn.model_selection import train_test_split\n",
        "from sklearn.metrics import accuracy_score, classification_report, confusion_matrix\n",
        "\n",
        "# Menggunakan dataset dari DataFrame yang telah didefinisikan sebelumnya (misalnya, df)\n",
        "X = df.drop(columns=['minor_category'])  # Ganti 'target' dengan kolom target yang sesuai\n",
        "y = df['major_category']  # Ganti 'target' dengan kolom target yang sesuai\n",
        "\n",
        "Xtrain, Xtest, y_train, y_test = train_test_split(X, y, stratify=y, random_state=0, train_size=0.7)\n",
        "\n",
        "scaler = preprocessing.StandardScaler().fit(Xtrain)\n",
        "Xtrain = scaler.transform(Xtrain)\n",
        "Xtest = scaler.transform(Xtest)\n",
        "\n",
        "knn = neighbors.KNeighborsClassifier(n_neighbors=3)\n",
        "knn.fit(Xtrain, y_train)\n",
        "y_pred = knn.predict(Xtest)\n",
        "\n",
        "print(accuracy_score(y_test, y_pred))\n",
        "print(classification_report(y_test, y_pred))\n",
        "print(confusion_matrix(y_test, y_pred))\n"
      ],
      "metadata": {
        "colab": {
          "base_uri": "https://localhost:8080/"
        },
        "id": "f8KL84mTrY7a",
        "outputId": "473d839a-7e46-4e2b-f7cc-15bbabf89e78"
      },
      "execution_count": null,
      "outputs": [
        {
          "output_type": "stream",
          "name": "stdout",
          "text": [
            "0.9069435288947484\n",
            "              precision    recall  f1-score   support\n",
            "\n",
            "           0       0.88      0.78      0.83       704\n",
            "           1       0.83      0.95      0.89      1357\n",
            "           2       0.89      0.85      0.87       806\n",
            "           3       0.73      0.35      0.48       155\n",
            "           4       0.87      0.88      0.87       526\n",
            "           5       0.92      0.92      0.92       638\n",
            "           6       1.00      0.08      0.15        73\n",
            "           7       0.93      0.97      0.95      2688\n",
            "           8       0.96      0.94      0.95      2155\n",
            "\n",
            "    accuracy                           0.91      9102\n",
            "   macro avg       0.89      0.75      0.77      9102\n",
            "weighted avg       0.91      0.91      0.90      9102\n",
            "\n",
            "[[ 551  151    2    0    0    0    0    0    0]\n",
            " [  61 1286   10    0    0    0    0    0    0]\n",
            " [  12  106  685    1    0    0    0    2    0]\n",
            " [   0    0   70   55   30    0    0    0    0]\n",
            " [   0    0    6   19  461   40    0    0    0]\n",
            " [   0    0    0    0   38  587    0   13    0]\n",
            " [   0    0    0    0    0   12    6   55    0]\n",
            " [   0    0    0    0    0    1    0 2598   89]\n",
            " [   0    0    0    0    0    0    0  129 2026]]\n"
          ]
        }
      ]
    },
    {
      "cell_type": "code",
      "source": [
        "from sklearn import neighbors, preprocessing\n",
        "from sklearn.model_selection import train_test_split\n",
        "from sklearn.metrics import accuracy_score, classification_report, confusion_matrix\n",
        "\n",
        "# Menggunakan dataset dari DataFrame yang telah didefinisikan sebelumnya (misalnya, df)\n",
        "X = df.drop(columns=['borough'])  # Ganti 'target' dengan kolom target yang sesuai\n",
        "y = df['major_category']  # Ganti 'target' dengan kolom target yang sesuai\n",
        "\n",
        "Xtrain, Xtest, y_train, y_test = train_test_split(X, y, stratify=y, random_state=0, train_size=0.7)\n",
        "\n",
        "scaler = preprocessing.StandardScaler().fit(Xtrain)\n",
        "Xtrain = scaler.transform(Xtrain)\n",
        "Xtest = scaler.transform(Xtest)\n",
        "\n",
        "knn = neighbors.KNeighborsClassifier(n_neighbors=3)\n",
        "knn.fit(Xtrain, y_train)\n",
        "y_pred = knn.predict(Xtest)\n",
        "\n",
        "print(accuracy_score(y_test, y_pred))\n",
        "print(classification_report(y_test, y_pred))\n",
        "print(confusion_matrix(y_test, y_pred))\n"
      ],
      "metadata": {
        "colab": {
          "base_uri": "https://localhost:8080/"
        },
        "id": "KodAKdttrizt",
        "outputId": "30f95d78-5267-409b-86fc-bab95444c8ad"
      },
      "execution_count": null,
      "outputs": [
        {
          "output_type": "stream",
          "name": "stdout",
          "text": [
            "0.958910129641837\n",
            "              precision    recall  f1-score   support\n",
            "\n",
            "           0       0.99      1.00      1.00       704\n",
            "           1       0.95      0.99      0.97      1357\n",
            "           2       0.96      0.91      0.94       806\n",
            "           3       0.92      0.63      0.75       155\n",
            "           4       0.94      0.99      0.96       526\n",
            "           5       0.98      0.99      0.99       638\n",
            "           6       0.86      0.26      0.40        73\n",
            "           7       0.94      0.99      0.96      2688\n",
            "           8       0.98      0.94      0.96      2155\n",
            "\n",
            "    accuracy                           0.96      9102\n",
            "   macro avg       0.95      0.85      0.88      9102\n",
            "weighted avg       0.96      0.96      0.96      9102\n",
            "\n",
            "[[ 704    0    0    0    0    0    0    0    0]\n",
            " [   6 1346    5    0    0    0    0    0    0]\n",
            " [   1   64  735    4    0    0    0    2    0]\n",
            " [   0    2   24   97   32    0    0    0    0]\n",
            " [   0    0    1    4  519    2    0    0    0]\n",
            " [   0    0    0    0    1  630    0    7    0]\n",
            " [   0    0    0    0    0    9   19   45    0]\n",
            " [   0    0    0    0    0    0    3 2649   36]\n",
            " [   0    0    0    0    0    0    0  126 2029]]\n"
          ]
        }
      ]
    },
    {
      "cell_type": "code",
      "source": [
        "from sklearn import neighbors, preprocessing\n",
        "from sklearn.model_selection import train_test_split\n",
        "from sklearn.metrics import accuracy_score, classification_report, confusion_matrix\n",
        "\n",
        "# Menggunakan dataset dari DataFrame yang telah didefinisikan sebelumnya (misalnya, df)\n",
        "X = df[['major_category']]  # Fitur-fitur numerik yang ingin digunakan\n",
        "y = df['month']  # Kolom target yang ingin digunakan\n",
        "\n",
        "Xtrain, Xtest, y_train, y_test = train_test_split(X, y, stratify=y, random_state=0, train_size=0.7)\n",
        "\n",
        "scaler = preprocessing.StandardScaler().fit(Xtrain)\n",
        "Xtrain = scaler.transform(Xtrain)\n",
        "Xtest = scaler.transform(Xtest)\n",
        "\n",
        "knn = neighbors.KNeighborsClassifier(n_neighbors=3)\n",
        "knn.fit(Xtrain, y_train)\n",
        "y_pred = knn.predict(Xtest)\n",
        "\n",
        "print(accuracy_score(y_test, y_pred))\n",
        "print(classification_report(y_test, y_pred))\n",
        "print(confusion_matrix(y_test, y_pred))\n"
      ],
      "metadata": {
        "colab": {
          "base_uri": "https://localhost:8080/"
        },
        "id": "JlHQAITWr1ZP",
        "outputId": "8fe5a9ca-ec88-4965-c0d9-a95d97fa90c5"
      },
      "execution_count": null,
      "outputs": [
        {
          "output_type": "stream",
          "name": "stdout",
          "text": [
            "0.08217974071632608\n",
            "              precision    recall  f1-score   support\n",
            "\n",
            "           1       0.08      0.39      0.14       749\n",
            "           2       0.09      0.30      0.13       771\n",
            "           3       0.00      0.00      0.00       759\n",
            "           4       0.08      0.08      0.08       792\n",
            "           5       0.00      0.00      0.00       779\n",
            "           6       0.00      0.00      0.00       741\n",
            "           7       0.08      0.08      0.08       740\n",
            "           8       0.09      0.02      0.03       759\n",
            "           9       0.00      0.00      0.00       768\n",
            "          10       0.00      0.00      0.00       769\n",
            "          11       0.07      0.13      0.09       722\n",
            "          12       0.00      0.00      0.00       753\n",
            "\n",
            "    accuracy                           0.08      9102\n",
            "   macro avg       0.04      0.08      0.05      9102\n",
            "weighted avg       0.04      0.08      0.05      9102\n",
            "\n",
            "[[292 210   0  65   0   0  61  14   0   0 107   0]\n",
            " [296 230   0  55   0   0  54  20   0   0 116   0]\n",
            " [302 211   0  49   0   0  61  13   0   0 123   0]\n",
            " [296 235   0  60   0   0  62  17   0   0 122   0]\n",
            " [325 199   0  76   0   0  57  10   0   0 112   0]\n",
            " [285 210   0  66   0   0  57   8   0   0 115   0]\n",
            " [273 216   0  67   0   0  56  11   0   0 117   0]\n",
            " [294 233   0  60   0   0  56  13   0   0 103   0]\n",
            " [285 243   0  76   0   0  42  11   0   0 111   0]\n",
            " [294 229   0  67   0   0  54  11   0   0 114   0]\n",
            " [278 203   0  75   0   0  59  10   0   0  97   0]\n",
            " [295 224   0  63   0   0  49   8   0   0 114   0]]\n"
          ]
        },
        {
          "output_type": "stream",
          "name": "stderr",
          "text": [
            "/usr/local/lib/python3.10/dist-packages/sklearn/metrics/_classification.py:1344: UndefinedMetricWarning: Precision and F-score are ill-defined and being set to 0.0 in labels with no predicted samples. Use `zero_division` parameter to control this behavior.\n",
            "  _warn_prf(average, modifier, msg_start, len(result))\n",
            "/usr/local/lib/python3.10/dist-packages/sklearn/metrics/_classification.py:1344: UndefinedMetricWarning: Precision and F-score are ill-defined and being set to 0.0 in labels with no predicted samples. Use `zero_division` parameter to control this behavior.\n",
            "  _warn_prf(average, modifier, msg_start, len(result))\n",
            "/usr/local/lib/python3.10/dist-packages/sklearn/metrics/_classification.py:1344: UndefinedMetricWarning: Precision and F-score are ill-defined and being set to 0.0 in labels with no predicted samples. Use `zero_division` parameter to control this behavior.\n",
            "  _warn_prf(average, modifier, msg_start, len(result))\n"
          ]
        }
      ]
    },
    {
      "cell_type": "code",
      "source": [
        "from sklearn import neighbors, preprocessing\n",
        "from sklearn.model_selection import train_test_split\n",
        "from sklearn.metrics import accuracy_score, classification_report, confusion_matrix\n",
        "\n",
        "# Menggunakan dataset dari DataFrame yang telah didefinisikan sebelumnya (misalnya, df)\n",
        "X = df.drop(columns=['borough'])  # Ganti 'target' dengan kolom target yang sesuai\n",
        "y = df['major_category']  # Ganti 'target' dengan kolom target yang sesuai\n",
        "\n",
        "Xtrain, Xtest, y_train, y_test = train_test_split(X, y, stratify=y, random_state=0, train_size=0.7)\n",
        "\n",
        "scaler = preprocessing.StandardScaler().fit(Xtrain)\n",
        "Xtrain = scaler.transform(Xtrain)\n",
        "Xtest = scaler.transform(Xtest)\n",
        "\n",
        "knn = neighbors.KNeighborsClassifier(n_neighbors=3)\n",
        "knn.fit(Xtrain, y_train)\n",
        "y_pred = knn.predict(Xtest)\n",
        "\n",
        "print(accuracy_score(y_test, y_pred))\n",
        "print(classification_report(y_test, y_pred))\n",
        "print(confusion_matrix(y_test, y_pred))"
      ],
      "metadata": {
        "colab": {
          "base_uri": "https://localhost:8080/"
        },
        "id": "E7jMc6uAF9dK",
        "outputId": "b9b86277-e289-40a3-db86-a43b4c15bc2b"
      },
      "execution_count": null,
      "outputs": [
        {
          "output_type": "stream",
          "name": "stdout",
          "text": [
            "0.958910129641837\n",
            "              precision    recall  f1-score   support\n",
            "\n",
            "           0       0.99      1.00      1.00       704\n",
            "           1       0.95      0.99      0.97      1357\n",
            "           2       0.96      0.91      0.94       806\n",
            "           3       0.92      0.63      0.75       155\n",
            "           4       0.94      0.99      0.96       526\n",
            "           5       0.98      0.99      0.99       638\n",
            "           6       0.86      0.26      0.40        73\n",
            "           7       0.94      0.99      0.96      2688\n",
            "           8       0.98      0.94      0.96      2155\n",
            "\n",
            "    accuracy                           0.96      9102\n",
            "   macro avg       0.95      0.85      0.88      9102\n",
            "weighted avg       0.96      0.96      0.96      9102\n",
            "\n",
            "[[ 704    0    0    0    0    0    0    0    0]\n",
            " [   6 1346    5    0    0    0    0    0    0]\n",
            " [   1   64  735    4    0    0    0    2    0]\n",
            " [   0    2   24   97   32    0    0    0    0]\n",
            " [   0    0    1    4  519    2    0    0    0]\n",
            " [   0    0    0    0    1  630    0    7    0]\n",
            " [   0    0    0    0    0    9   19   45    0]\n",
            " [   0    0    0    0    0    0    3 2649   36]\n",
            " [   0    0    0    0    0    0    0  126 2029]]\n"
          ]
        }
      ]
    },
    {
      "cell_type": "code",
      "source": [
        "from sklearn import neighbors, preprocessing\n",
        "from sklearn.model_selection import train_test_split\n",
        "from sklearn.metrics import accuracy_score, classification_report, confusion_matrix\n",
        "\n",
        "# Menggunakan dataset dari DataFrame yang telah didefinisikan sebelumnya (misalnya, df)\n",
        "X = df.drop(columns=['borough'])  # Ganti 'target' dengan kolom target yang sesuai\n",
        "y = df['year']  # Ganti 'target' dengan kolom target yang sesuai\n",
        "\n",
        "Xtrain, Xtest, y_train, y_test = train_test_split(X, y, stratify=y, random_state=0, train_size=0.7)\n",
        "\n",
        "scaler = preprocessing.StandardScaler().fit(Xtrain)\n",
        "Xtrain = scaler.transform(Xtrain)\n",
        "Xtest = scaler.transform(Xtest)\n",
        "\n",
        "knn = neighbors.KNeighborsClassifier(n_neighbors=3)\n",
        "knn.fit(Xtrain, y_train)\n",
        "y_pred = knn.predict(Xtest)\n",
        "\n",
        "print(accuracy_score(y_test, y_pred))\n",
        "print(classification_report(y_test, y_pred))\n",
        "print(confusion_matrix(y_test, y_pred))"
      ],
      "metadata": {
        "colab": {
          "base_uri": "https://localhost:8080/"
        },
        "id": "lCa0a_QfI1Ms",
        "outputId": "5360968b-5696-4661-8b6d-065c389ee4b8"
      },
      "execution_count": null,
      "outputs": [
        {
          "output_type": "stream",
          "name": "stdout",
          "text": [
            "0.8764007910349374\n",
            "              precision    recall  f1-score   support\n",
            "\n",
            "        2008       0.90      0.92      0.91      1016\n",
            "        2009       0.84      0.87      0.86      1024\n",
            "        2010       0.88      0.86      0.87      1023\n",
            "        2011       0.86      0.86      0.86      1021\n",
            "        2012       0.87      0.87      0.87      1036\n",
            "        2013       0.87      0.86      0.86      1008\n",
            "        2014       0.85      0.86      0.86       989\n",
            "        2015       0.88      0.84      0.86       982\n",
            "        2016       0.96      0.93      0.94      1003\n",
            "\n",
            "    accuracy                           0.88      9102\n",
            "   macro avg       0.88      0.88      0.88      9102\n",
            "weighted avg       0.88      0.88      0.88      9102\n",
            "\n",
            "[[936  80   0   0   0   0   0   0   0]\n",
            " [ 96 895  32   1   0   0   0   0   0]\n",
            " [  7  89 881  46   0   0   0   0   0]\n",
            " [  5   4  90 881  41   0   0   0   0]\n",
            " [  0   0   1  92 904  39   0   0   0]\n",
            " [  0   0   0   6  93 869  39   1   0]\n",
            " [  0   0   0   1   3  88 851  46   0]\n",
            " [  0   0   0   1   0   6 103 829  43]\n",
            " [  0   0   0   0   0   1   6  65 931]]\n"
          ]
        }
      ]
    }
  ],
  "metadata": {
    "colab": {
      "provenance": [],
      "authorship_tag": "ABX9TyPzCkl4J6wzJsEhBm4VWsKJ",
      "include_colab_link": true
    },
    "kernelspec": {
      "display_name": "Python 3",
      "name": "python3"
    },
    "language_info": {
      "name": "python"
    }
  },
  "nbformat": 4,
  "nbformat_minor": 0
}